{
 "cells": [
  {
   "attachments": {},
   "cell_type": "markdown",
   "metadata": {},
   "source": [
    "# Data Preprocessing and Analysis "
   ]
  },
  {
   "cell_type": "code",
   "execution_count": 113,
   "metadata": {},
   "outputs": [],
   "source": [
    "import pandas as pd\n",
    "import seaborn as sns\n",
    "import matplotlib.pyplot as plt\n",
    "import numpy as np\n",
    "from sklearn.impute import SimpleImputer\n",
    "from imblearn.over_sampling import SMOTE\n",
    "from sklearn.utils import resample\n",
    "from sklearn.preprocessing import StandardScaler\n",
    "from sklearn.model_selection import train_test_split"
   ]
  },
  {
   "cell_type": "code",
   "execution_count": 114,
   "metadata": {},
   "outputs": [],
   "source": [
    "data = pd.read_csv(\"../../dataset/dataset.csv\")"
   ]
  },
  {
   "cell_type": "code",
   "execution_count": 115,
   "metadata": {},
   "outputs": [
    {
     "data": {
      "text/html": [
       "<div>\n",
       "<style scoped>\n",
       "    .dataframe tbody tr th:only-of-type {\n",
       "        vertical-align: middle;\n",
       "    }\n",
       "\n",
       "    .dataframe tbody tr th {\n",
       "        vertical-align: top;\n",
       "    }\n",
       "\n",
       "    .dataframe thead th {\n",
       "        text-align: right;\n",
       "    }\n",
       "</style>\n",
       "<table border=\"1\" class=\"dataframe\">\n",
       "  <thead>\n",
       "    <tr style=\"text-align: right;\">\n",
       "      <th></th>\n",
       "      <th>encounter_id</th>\n",
       "      <th>patient_id</th>\n",
       "      <th>hospital_id</th>\n",
       "      <th>age</th>\n",
       "      <th>bmi</th>\n",
       "      <th>elective_surgery</th>\n",
       "      <th>ethnicity</th>\n",
       "      <th>gender</th>\n",
       "      <th>height</th>\n",
       "      <th>icu_admit_source</th>\n",
       "      <th>...</th>\n",
       "      <th>diabetes_mellitus</th>\n",
       "      <th>hepatic_failure</th>\n",
       "      <th>immunosuppression</th>\n",
       "      <th>leukemia</th>\n",
       "      <th>lymphoma</th>\n",
       "      <th>solid_tumor_with_metastasis</th>\n",
       "      <th>apache_3j_bodysystem</th>\n",
       "      <th>apache_2_bodysystem</th>\n",
       "      <th>Unnamed: 83</th>\n",
       "      <th>hospital_death</th>\n",
       "    </tr>\n",
       "  </thead>\n",
       "  <tbody>\n",
       "    <tr>\n",
       "      <th>0</th>\n",
       "      <td>66154</td>\n",
       "      <td>25312</td>\n",
       "      <td>118</td>\n",
       "      <td>68.0</td>\n",
       "      <td>22.73</td>\n",
       "      <td>0</td>\n",
       "      <td>Caucasian</td>\n",
       "      <td>M</td>\n",
       "      <td>180.3</td>\n",
       "      <td>Floor</td>\n",
       "      <td>...</td>\n",
       "      <td>1.0</td>\n",
       "      <td>0.0</td>\n",
       "      <td>0.0</td>\n",
       "      <td>0.0</td>\n",
       "      <td>0.0</td>\n",
       "      <td>0.0</td>\n",
       "      <td>Sepsis</td>\n",
       "      <td>Cardiovascular</td>\n",
       "      <td>NaN</td>\n",
       "      <td>0</td>\n",
       "    </tr>\n",
       "    <tr>\n",
       "      <th>1</th>\n",
       "      <td>114252</td>\n",
       "      <td>59342</td>\n",
       "      <td>81</td>\n",
       "      <td>77.0</td>\n",
       "      <td>27.42</td>\n",
       "      <td>0</td>\n",
       "      <td>Caucasian</td>\n",
       "      <td>F</td>\n",
       "      <td>160.0</td>\n",
       "      <td>Floor</td>\n",
       "      <td>...</td>\n",
       "      <td>1.0</td>\n",
       "      <td>0.0</td>\n",
       "      <td>0.0</td>\n",
       "      <td>0.0</td>\n",
       "      <td>0.0</td>\n",
       "      <td>0.0</td>\n",
       "      <td>Respiratory</td>\n",
       "      <td>Respiratory</td>\n",
       "      <td>NaN</td>\n",
       "      <td>0</td>\n",
       "    </tr>\n",
       "    <tr>\n",
       "      <th>2</th>\n",
       "      <td>119783</td>\n",
       "      <td>50777</td>\n",
       "      <td>118</td>\n",
       "      <td>25.0</td>\n",
       "      <td>31.95</td>\n",
       "      <td>0</td>\n",
       "      <td>Caucasian</td>\n",
       "      <td>F</td>\n",
       "      <td>172.7</td>\n",
       "      <td>Accident &amp; Emergency</td>\n",
       "      <td>...</td>\n",
       "      <td>0.0</td>\n",
       "      <td>0.0</td>\n",
       "      <td>0.0</td>\n",
       "      <td>0.0</td>\n",
       "      <td>0.0</td>\n",
       "      <td>0.0</td>\n",
       "      <td>Metabolic</td>\n",
       "      <td>Metabolic</td>\n",
       "      <td>NaN</td>\n",
       "      <td>0</td>\n",
       "    </tr>\n",
       "    <tr>\n",
       "      <th>3</th>\n",
       "      <td>79267</td>\n",
       "      <td>46918</td>\n",
       "      <td>118</td>\n",
       "      <td>81.0</td>\n",
       "      <td>22.64</td>\n",
       "      <td>1</td>\n",
       "      <td>Caucasian</td>\n",
       "      <td>F</td>\n",
       "      <td>165.1</td>\n",
       "      <td>Operating Room / Recovery</td>\n",
       "      <td>...</td>\n",
       "      <td>0.0</td>\n",
       "      <td>0.0</td>\n",
       "      <td>0.0</td>\n",
       "      <td>0.0</td>\n",
       "      <td>0.0</td>\n",
       "      <td>0.0</td>\n",
       "      <td>Cardiovascular</td>\n",
       "      <td>Cardiovascular</td>\n",
       "      <td>NaN</td>\n",
       "      <td>0</td>\n",
       "    </tr>\n",
       "    <tr>\n",
       "      <th>4</th>\n",
       "      <td>92056</td>\n",
       "      <td>34377</td>\n",
       "      <td>33</td>\n",
       "      <td>19.0</td>\n",
       "      <td>NaN</td>\n",
       "      <td>0</td>\n",
       "      <td>Caucasian</td>\n",
       "      <td>M</td>\n",
       "      <td>188.0</td>\n",
       "      <td>Accident &amp; Emergency</td>\n",
       "      <td>...</td>\n",
       "      <td>0.0</td>\n",
       "      <td>0.0</td>\n",
       "      <td>0.0</td>\n",
       "      <td>0.0</td>\n",
       "      <td>0.0</td>\n",
       "      <td>0.0</td>\n",
       "      <td>Trauma</td>\n",
       "      <td>Trauma</td>\n",
       "      <td>NaN</td>\n",
       "      <td>0</td>\n",
       "    </tr>\n",
       "  </tbody>\n",
       "</table>\n",
       "<p>5 rows × 85 columns</p>\n",
       "</div>"
      ],
      "text/plain": [
       "   encounter_id  patient_id  hospital_id   age    bmi  elective_surgery  \\\n",
       "0         66154       25312          118  68.0  22.73                 0   \n",
       "1        114252       59342           81  77.0  27.42                 0   \n",
       "2        119783       50777          118  25.0  31.95                 0   \n",
       "3         79267       46918          118  81.0  22.64                 1   \n",
       "4         92056       34377           33  19.0    NaN                 0   \n",
       "\n",
       "   ethnicity gender  height           icu_admit_source  ...  \\\n",
       "0  Caucasian      M   180.3                      Floor  ...   \n",
       "1  Caucasian      F   160.0                      Floor  ...   \n",
       "2  Caucasian      F   172.7       Accident & Emergency  ...   \n",
       "3  Caucasian      F   165.1  Operating Room / Recovery  ...   \n",
       "4  Caucasian      M   188.0       Accident & Emergency  ...   \n",
       "\n",
       "   diabetes_mellitus hepatic_failure immunosuppression  leukemia  lymphoma  \\\n",
       "0                1.0             0.0               0.0       0.0       0.0   \n",
       "1                1.0             0.0               0.0       0.0       0.0   \n",
       "2                0.0             0.0               0.0       0.0       0.0   \n",
       "3                0.0             0.0               0.0       0.0       0.0   \n",
       "4                0.0             0.0               0.0       0.0       0.0   \n",
       "\n",
       "   solid_tumor_with_metastasis  apache_3j_bodysystem  apache_2_bodysystem  \\\n",
       "0                          0.0                Sepsis       Cardiovascular   \n",
       "1                          0.0           Respiratory          Respiratory   \n",
       "2                          0.0             Metabolic            Metabolic   \n",
       "3                          0.0        Cardiovascular       Cardiovascular   \n",
       "4                          0.0                Trauma               Trauma   \n",
       "\n",
       "   Unnamed: 83  hospital_death  \n",
       "0          NaN               0  \n",
       "1          NaN               0  \n",
       "2          NaN               0  \n",
       "3          NaN               0  \n",
       "4          NaN               0  \n",
       "\n",
       "[5 rows x 85 columns]"
      ]
     },
     "execution_count": 115,
     "metadata": {},
     "output_type": "execute_result"
    }
   ],
   "source": [
    "data.head()"
   ]
  },
  {
   "attachments": {},
   "cell_type": "markdown",
   "metadata": {},
   "source": [
    "## Randomly splitting the dataset into 3 parts"
   ]
  },
  {
   "cell_type": "code",
   "execution_count": 116,
   "metadata": {},
   "outputs": [],
   "source": [
    "historyData = data.sample(frac=0.5)\n",
    "incrementalData = data.drop(historyData.index)\n",
    "incrementalData1 = incrementalData.sample(frac=0.5)\n",
    "incrementalData2 = incrementalData.drop(incrementalData1.index)"
   ]
  },
  {
   "cell_type": "code",
   "execution_count": 117,
   "metadata": {},
   "outputs": [],
   "source": [
    "historyData.to_csv(\"../../dataset/historyData/historyData.csv\", index=False)\n",
    "incrementalData1.to_csv(\"../../dataset/incrementalData/incData1.csv\", index=False)\n",
    "incrementalData2.to_csv(\"../../dataset/incrementalData/incData2.csv\", index=False)"
   ]
  },
  {
   "attachments": {},
   "cell_type": "markdown",
   "metadata": {},
   "source": [
    "## Data preprocessing and analysis"
   ]
  },
  {
   "cell_type": "code",
   "execution_count": 146,
   "metadata": {},
   "outputs": [
    {
     "data": {
      "text/plain": [
       "(22928, 85)"
      ]
     },
     "execution_count": 146,
     "metadata": {},
     "output_type": "execute_result"
    }
   ],
   "source": [
    "data = pd.read_csv(\"../../dataset/incrementalData/incData1.csv\")\n",
    "data.shape"
   ]
  },
  {
   "cell_type": "code",
   "execution_count": 119,
   "metadata": {},
   "outputs": [
    {
     "name": "stdout",
     "output_type": "stream",
     "text": [
      "<class 'pandas.core.frame.DataFrame'>\n",
      "RangeIndex: 45856 entries, 0 to 45855\n",
      "Data columns (total 85 columns):\n",
      " #   Column                         Non-Null Count  Dtype  \n",
      "---  ------                         --------------  -----  \n",
      " 0   encounter_id                   45856 non-null  int64  \n",
      " 1   patient_id                     45856 non-null  int64  \n",
      " 2   hospital_id                    45856 non-null  int64  \n",
      " 3   age                            43780 non-null  float64\n",
      " 4   bmi                            44184 non-null  float64\n",
      " 5   elective_surgery               45856 non-null  int64  \n",
      " 6   ethnicity                      45172 non-null  object \n",
      " 7   gender                         45840 non-null  object \n",
      " 8   height                         45196 non-null  float64\n",
      " 9   icu_admit_source               45801 non-null  object \n",
      " 10  icu_id                         45856 non-null  int64  \n",
      " 11  icu_stay_type                  45856 non-null  object \n",
      " 12  icu_type                       45856 non-null  object \n",
      " 13  pre_icu_los_days               45856 non-null  float64\n",
      " 14  weight                         44503 non-null  float64\n",
      " 15  apache_2_diagnosis             45044 non-null  float64\n",
      " 16  apache_3j_diagnosis            45306 non-null  float64\n",
      " 17  apache_post_operative          45856 non-null  int64  \n",
      " 18  arf_apache                     45500 non-null  float64\n",
      " 19  gcs_eyes_apache                44906 non-null  float64\n",
      " 20  gcs_motor_apache               44906 non-null  float64\n",
      " 21  gcs_unable_apache              45342 non-null  float64\n",
      " 22  gcs_verbal_apache              44906 non-null  float64\n",
      " 23  heart_rate_apache              45418 non-null  float64\n",
      " 24  intubated_apache               45500 non-null  float64\n",
      " 25  map_apache                     45355 non-null  float64\n",
      " 26  resprate_apache                45232 non-null  float64\n",
      " 27  temp_apache                    43862 non-null  float64\n",
      " 28  ventilated_apache              45500 non-null  float64\n",
      " 29  d1_diasbp_max                  45762 non-null  float64\n",
      " 30  d1_diasbp_min                  45762 non-null  float64\n",
      " 31  d1_diasbp_noninvasive_max      45325 non-null  float64\n",
      " 32  d1_diasbp_noninvasive_min      45325 non-null  float64\n",
      " 33  d1_heartrate_max               45780 non-null  float64\n",
      " 34  d1_heartrate_min               45780 non-null  float64\n",
      " 35  d1_mbp_max                     45740 non-null  float64\n",
      " 36  d1_mbp_min                     45740 non-null  float64\n",
      " 37  d1_mbp_noninvasive_max         45124 non-null  float64\n",
      " 38  d1_mbp_noninvasive_min         45124 non-null  float64\n",
      " 39  d1_resprate_max                45662 non-null  float64\n",
      " 40  d1_resprate_min                45662 non-null  float64\n",
      " 41  d1_spo2_max                    45681 non-null  float64\n",
      " 42  d1_spo2_min                    45681 non-null  float64\n",
      " 43  d1_sysbp_max                   45766 non-null  float64\n",
      " 44  d1_sysbp_min                   45766 non-null  float64\n",
      " 45  d1_sysbp_noninvasive_max       45333 non-null  float64\n",
      " 46  d1_sysbp_noninvasive_min       45333 non-null  float64\n",
      " 47  d1_temp_max                    44720 non-null  float64\n",
      " 48  d1_temp_min                    44720 non-null  float64\n",
      " 49  h1_diasbp_max                  44040 non-null  float64\n",
      " 50  h1_diasbp_min                  44040 non-null  float64\n",
      " 51  h1_diasbp_noninvasive_max      42140 non-null  float64\n",
      " 52  h1_diasbp_noninvasive_min      42140 non-null  float64\n",
      " 53  h1_heartrate_max               44452 non-null  float64\n",
      " 54  h1_heartrate_min               44452 non-null  float64\n",
      " 55  h1_mbp_max                     43500 non-null  float64\n",
      " 56  h1_mbp_min                     43500 non-null  float64\n",
      " 57  h1_mbp_noninvasive_max         41294 non-null  float64\n",
      " 58  h1_mbp_noninvasive_min         41294 non-null  float64\n",
      " 59  h1_resprate_max                43652 non-null  float64\n",
      " 60  h1_resprate_min                43652 non-null  float64\n",
      " 61  h1_spo2_max                    43740 non-null  float64\n",
      " 62  h1_spo2_min                    43740 non-null  float64\n",
      " 63  h1_sysbp_max                   44046 non-null  float64\n",
      " 64  h1_sysbp_min                   44046 non-null  float64\n",
      " 65  h1_sysbp_noninvasive_max       42144 non-null  float64\n",
      " 66  h1_sysbp_noninvasive_min       42144 non-null  float64\n",
      " 67  d1_glucose_max                 42949 non-null  float64\n",
      " 68  d1_glucose_min                 42949 non-null  float64\n",
      " 69  d1_potassium_max               41091 non-null  float64\n",
      " 70  d1_potassium_min               41091 non-null  float64\n",
      " 71  apache_4a_hospital_death_prob  41855 non-null  float64\n",
      " 72  apache_4a_icu_death_prob       41855 non-null  float64\n",
      " 73  aids                           45500 non-null  float64\n",
      " 74  cirrhosis                      45500 non-null  float64\n",
      " 75  diabetes_mellitus              45500 non-null  float64\n",
      " 76  hepatic_failure                45500 non-null  float64\n",
      " 77  immunosuppression              45500 non-null  float64\n",
      " 78  leukemia                       45500 non-null  float64\n",
      " 79  lymphoma                       45500 non-null  float64\n",
      " 80  solid_tumor_with_metastasis    45500 non-null  float64\n",
      " 81  apache_3j_bodysystem           45044 non-null  object \n",
      " 82  apache_2_bodysystem            45044 non-null  object \n",
      " 83  Unnamed: 83                    0 non-null      float64\n",
      " 84  hospital_death                 45856 non-null  int64  \n",
      "dtypes: float64(71), int64(7), object(7)\n",
      "memory usage: 29.7+ MB\n"
     ]
    }
   ],
   "source": [
    "data.info()"
   ]
  },
  {
   "cell_type": "code",
   "execution_count": 120,
   "metadata": {},
   "outputs": [],
   "source": [
    "# Dropping the null column\n",
    "data.drop(\"Unnamed: 83\", axis=1, inplace=True)"
   ]
  },
  {
   "attachments": {},
   "cell_type": "markdown",
   "metadata": {},
   "source": [
    "### Getting the null values"
   ]
  },
  {
   "cell_type": "code",
   "execution_count": 121,
   "metadata": {},
   "outputs": [
    {
     "data": {
      "text/plain": [
       "encounter_id                   0.000000\n",
       "patient_id                     0.000000\n",
       "hospital_id                    0.000000\n",
       "age                            4.527216\n",
       "bmi                            3.646197\n",
       "                                 ...   \n",
       "lymphoma                       0.776343\n",
       "solid_tumor_with_metastasis    0.776343\n",
       "apache_3j_bodysystem           1.770761\n",
       "apache_2_bodysystem            1.770761\n",
       "hospital_death                 0.000000\n",
       "Length: 84, dtype: float64"
      ]
     },
     "execution_count": 121,
     "metadata": {},
     "output_type": "execute_result"
    }
   ],
   "source": [
    "missing_value = ((data.isnull().sum())/len(data)) * 100 \n",
    "#missing_value.to_dict()\n",
    "missing_value"
   ]
  },
  {
   "cell_type": "code",
   "execution_count": 122,
   "metadata": {},
   "outputs": [
    {
     "data": {
      "text/plain": [
       "['encounter_id',\n",
       " 'patient_id',\n",
       " 'hospital_id',\n",
       " 'age',\n",
       " 'bmi',\n",
       " 'elective_surgery',\n",
       " 'height',\n",
       " 'icu_id',\n",
       " 'pre_icu_los_days',\n",
       " 'weight',\n",
       " 'apache_2_diagnosis',\n",
       " 'apache_3j_diagnosis',\n",
       " 'apache_post_operative',\n",
       " 'arf_apache',\n",
       " 'gcs_eyes_apache',\n",
       " 'gcs_motor_apache',\n",
       " 'gcs_unable_apache',\n",
       " 'gcs_verbal_apache',\n",
       " 'heart_rate_apache',\n",
       " 'intubated_apache',\n",
       " 'map_apache',\n",
       " 'resprate_apache',\n",
       " 'temp_apache',\n",
       " 'ventilated_apache',\n",
       " 'd1_diasbp_max',\n",
       " 'd1_diasbp_min',\n",
       " 'd1_diasbp_noninvasive_max',\n",
       " 'd1_diasbp_noninvasive_min',\n",
       " 'd1_heartrate_max',\n",
       " 'd1_heartrate_min',\n",
       " 'd1_mbp_max',\n",
       " 'd1_mbp_min',\n",
       " 'd1_mbp_noninvasive_max',\n",
       " 'd1_mbp_noninvasive_min',\n",
       " 'd1_resprate_max',\n",
       " 'd1_resprate_min',\n",
       " 'd1_spo2_max',\n",
       " 'd1_spo2_min',\n",
       " 'd1_sysbp_max',\n",
       " 'd1_sysbp_min',\n",
       " 'd1_sysbp_noninvasive_max',\n",
       " 'd1_sysbp_noninvasive_min',\n",
       " 'd1_temp_max',\n",
       " 'd1_temp_min',\n",
       " 'h1_diasbp_max',\n",
       " 'h1_diasbp_min',\n",
       " 'h1_diasbp_noninvasive_max',\n",
       " 'h1_diasbp_noninvasive_min',\n",
       " 'h1_heartrate_max',\n",
       " 'h1_heartrate_min',\n",
       " 'h1_mbp_max',\n",
       " 'h1_mbp_min',\n",
       " 'h1_mbp_noninvasive_max',\n",
       " 'h1_mbp_noninvasive_min',\n",
       " 'h1_resprate_max',\n",
       " 'h1_resprate_min',\n",
       " 'h1_spo2_max',\n",
       " 'h1_spo2_min',\n",
       " 'h1_sysbp_max',\n",
       " 'h1_sysbp_min',\n",
       " 'h1_sysbp_noninvasive_max',\n",
       " 'h1_sysbp_noninvasive_min',\n",
       " 'd1_glucose_max',\n",
       " 'd1_glucose_min',\n",
       " 'd1_potassium_max',\n",
       " 'd1_potassium_min',\n",
       " 'apache_4a_hospital_death_prob',\n",
       " 'apache_4a_icu_death_prob',\n",
       " 'aids',\n",
       " 'cirrhosis',\n",
       " 'diabetes_mellitus',\n",
       " 'hepatic_failure',\n",
       " 'immunosuppression',\n",
       " 'leukemia',\n",
       " 'lymphoma',\n",
       " 'solid_tumor_with_metastasis']"
      ]
     },
     "execution_count": 122,
     "metadata": {},
     "output_type": "execute_result"
    }
   ],
   "source": [
    "numerical_data = [num for num in data.drop(\"hospital_death\", axis=1).columns if data[num].dtype!=\"O\"]\n",
    "categorical_data = [cat for cat in data.drop(\"hospital_death\", axis=1).columns if cat not in numerical_data]\n",
    "numerical_data"
   ]
  },
  {
   "cell_type": "code",
   "execution_count": 123,
   "metadata": {},
   "outputs": [
    {
     "data": {
      "text/plain": [
       "['ethnicity',\n",
       " 'gender',\n",
       " 'icu_admit_source',\n",
       " 'icu_stay_type',\n",
       " 'icu_type',\n",
       " 'apache_3j_bodysystem',\n",
       " 'apache_2_bodysystem']"
      ]
     },
     "execution_count": 123,
     "metadata": {},
     "output_type": "execute_result"
    }
   ],
   "source": [
    "categorical_data"
   ]
  },
  {
   "attachments": {},
   "cell_type": "markdown",
   "metadata": {},
   "source": [
    "### taking care of missing values in categorical data"
   ]
  },
  {
   "cell_type": "code",
   "execution_count": 124,
   "metadata": {},
   "outputs": [
    {
     "name": "stdout",
     "output_type": "stream",
     "text": [
      "ethnicity: ['Asian' 'Caucasian' 'African American' 'Hispanic' nan 'Other/Unknown'\n",
      " 'Native American']\n",
      "gender: ['F' 'M' nan]\n",
      "icu_admit_source: ['Accident & Emergency' 'Operating Room / Recovery' 'Floor'\n",
      " 'Other Hospital' 'Other ICU' nan]\n",
      "icu_stay_type: ['admit' 'transfer' 'readmit']\n",
      "icu_type: ['Med-Surg ICU' 'CCU-CTICU' 'SICU' 'Neuro ICU' 'MICU' 'Cardiac ICU'\n",
      " 'CSICU' 'CTICU']\n",
      "apache_3j_bodysystem: ['Respiratory' 'Cardiovascular' 'Trauma' 'Gastrointestinal' 'Sepsis'\n",
      " 'Metabolic' 'Neurological' nan 'Hematological' 'Genitourinary'\n",
      " 'Gynecological' 'Musculoskeletal/Skin']\n",
      "apache_2_bodysystem: ['Respiratory' 'Cardiovascular' 'Trauma' 'Gastrointestinal' 'Metabolic'\n",
      " 'Neurologic' nan 'Haematologic' 'Renal/Genitourinary'\n",
      " 'Undefined diagnoses' 'Undefined Diagnoses']\n"
     ]
    }
   ],
   "source": [
    "\n",
    "for i in categorical_data:\n",
    "    print(f\"{i}: {data[i].unique()}\")"
   ]
  },
  {
   "cell_type": "code",
   "execution_count": 125,
   "metadata": {},
   "outputs": [],
   "source": [
    "cat_imp = SimpleImputer(missing_values=np.nan, strategy=\"most_frequent\")\n",
    "data[categorical_data] = cat_imp.fit_transform(data[categorical_data])"
   ]
  },
  {
   "cell_type": "code",
   "execution_count": 126,
   "metadata": {},
   "outputs": [
    {
     "data": {
      "text/plain": [
       "ethnicity               0\n",
       "gender                  0\n",
       "icu_admit_source        0\n",
       "icu_stay_type           0\n",
       "icu_type                0\n",
       "apache_3j_bodysystem    0\n",
       "apache_2_bodysystem     0\n",
       "dtype: int64"
      ]
     },
     "execution_count": 126,
     "metadata": {},
     "output_type": "execute_result"
    }
   ],
   "source": [
    "data[categorical_data].isnull().sum()"
   ]
  },
  {
   "attachments": {},
   "cell_type": "markdown",
   "metadata": {},
   "source": [
    "### Taking care of missing values in numerical cols"
   ]
  },
  {
   "cell_type": "code",
   "execution_count": 127,
   "metadata": {},
   "outputs": [
    {
     "data": {
      "text/plain": [
       "encounter_id                      0\n",
       "patient_id                        0\n",
       "hospital_id                       0\n",
       "age                            2076\n",
       "bmi                            1672\n",
       "                               ... \n",
       "hepatic_failure                 356\n",
       "immunosuppression               356\n",
       "leukemia                        356\n",
       "lymphoma                        356\n",
       "solid_tumor_with_metastasis     356\n",
       "Length: 76, dtype: int64"
      ]
     },
     "execution_count": 127,
     "metadata": {},
     "output_type": "execute_result"
    }
   ],
   "source": [
    "data[numerical_data].isnull().sum()"
   ]
  },
  {
   "cell_type": "code",
   "execution_count": 128,
   "metadata": {},
   "outputs": [],
   "source": [
    "num_imp = SimpleImputer(missing_values=np.nan, strategy=\"mean\")\n",
    "data[numerical_data] = num_imp.fit_transform(data[numerical_data])"
   ]
  },
  {
   "cell_type": "code",
   "execution_count": 129,
   "metadata": {},
   "outputs": [
    {
     "data": {
      "text/plain": [
       "encounter_id                   0\n",
       "patient_id                     0\n",
       "hospital_id                    0\n",
       "age                            0\n",
       "bmi                            0\n",
       "                              ..\n",
       "hepatic_failure                0\n",
       "immunosuppression              0\n",
       "leukemia                       0\n",
       "lymphoma                       0\n",
       "solid_tumor_with_metastasis    0\n",
       "Length: 76, dtype: int64"
      ]
     },
     "execution_count": 129,
     "metadata": {},
     "output_type": "execute_result"
    }
   ],
   "source": [
    "data[numerical_data].isnull().sum()"
   ]
  },
  {
   "attachments": {},
   "cell_type": "markdown",
   "metadata": {},
   "source": [
    "### Remove non-correlated data"
   ]
  },
  {
   "cell_type": "code",
   "execution_count": 130,
   "metadata": {},
   "outputs": [
    {
     "name": "stderr",
     "output_type": "stream",
     "text": [
      "C:\\Users\\debor\\AppData\\Local\\Temp\\ipykernel_13308\\1349432385.py:1: FutureWarning: The default value of numeric_only in DataFrame.corr is deprecated. In a future version, it will default to False. Select only valid columns or specify the value of numeric_only to silence this warning.\n",
      "  corr = data.corr().abs()\n"
     ]
    }
   ],
   "source": [
    "corr = data.corr().abs()\n",
    "upper = corr.where(np.triu(np.ones(corr.shape), k=1).astype(np.bool_))\n",
    "to_drop = [column for column in upper.columns if any(upper[column] > 0.95)]\n",
    "data.drop(to_drop, axis=1, inplace=True)"
   ]
  },
  {
   "cell_type": "code",
   "execution_count": 131,
   "metadata": {},
   "outputs": [
    {
     "data": {
      "text/plain": [
       "(45856, 72)"
      ]
     },
     "execution_count": 131,
     "metadata": {},
     "output_type": "execute_result"
    }
   ],
   "source": [
    "data.shape"
   ]
  },
  {
   "cell_type": "code",
   "execution_count": 132,
   "metadata": {},
   "outputs": [
    {
     "data": {
      "text/plain": [
       "Index(['encounter_id', 'patient_id', 'hospital_id', 'age', 'bmi',\n",
       "       'elective_surgery', 'ethnicity', 'gender', 'height', 'icu_admit_source',\n",
       "       'icu_id', 'icu_stay_type', 'icu_type', 'pre_icu_los_days', 'weight',\n",
       "       'apache_2_diagnosis', 'apache_3j_diagnosis', 'apache_post_operative',\n",
       "       'arf_apache', 'gcs_eyes_apache', 'gcs_motor_apache',\n",
       "       'gcs_unable_apache', 'gcs_verbal_apache', 'heart_rate_apache',\n",
       "       'intubated_apache', 'map_apache', 'resprate_apache', 'temp_apache',\n",
       "       'ventilated_apache', 'd1_diasbp_max', 'd1_diasbp_min',\n",
       "       'd1_heartrate_max', 'd1_heartrate_min', 'd1_mbp_max', 'd1_mbp_min',\n",
       "       'd1_resprate_max', 'd1_resprate_min', 'd1_spo2_max', 'd1_spo2_min',\n",
       "       'd1_sysbp_max', 'd1_sysbp_min', 'd1_temp_max', 'd1_temp_min',\n",
       "       'h1_diasbp_max', 'h1_diasbp_min', 'h1_heartrate_max',\n",
       "       'h1_heartrate_min', 'h1_mbp_max', 'h1_mbp_min', 'h1_resprate_max',\n",
       "       'h1_resprate_min', 'h1_spo2_max', 'h1_spo2_min', 'h1_sysbp_max',\n",
       "       'h1_sysbp_min', 'd1_glucose_max', 'd1_glucose_min', 'd1_potassium_max',\n",
       "       'd1_potassium_min', 'apache_4a_hospital_death_prob',\n",
       "       'apache_4a_icu_death_prob', 'aids', 'cirrhosis', 'diabetes_mellitus',\n",
       "       'hepatic_failure', 'immunosuppression', 'leukemia', 'lymphoma',\n",
       "       'solid_tumor_with_metastasis', 'apache_3j_bodysystem',\n",
       "       'apache_2_bodysystem', 'hospital_death'],\n",
       "      dtype='object')"
      ]
     },
     "execution_count": 132,
     "metadata": {},
     "output_type": "execute_result"
    }
   ],
   "source": [
    "data.columns"
   ]
  },
  {
   "cell_type": "code",
   "execution_count": 133,
   "metadata": {},
   "outputs": [],
   "source": [
    "# remove all the columns not requred from numerical col list and categorical call list\n",
    "for not_req in to_drop:\n",
    "    if not_req in numerical_data:\n",
    "        numerical_data.remove(not_req)\n",
    "    elif not_req in categorical_data:\n",
    "        categorical_data.remove(not_req)\n",
    "    else:\n",
    "        pass"
   ]
  },
  {
   "cell_type": "code",
   "execution_count": 134,
   "metadata": {},
   "outputs": [
    {
     "data": {
      "text/plain": [
       "71"
      ]
     },
     "execution_count": 134,
     "metadata": {},
     "output_type": "execute_result"
    }
   ],
   "source": [
    "len(numerical_data)+len(categorical_data)"
   ]
  },
  {
   "cell_type": "code",
   "execution_count": 135,
   "metadata": {},
   "outputs": [
    {
     "data": {
      "text/plain": [
       "<AxesSubplot: >"
      ]
     },
     "execution_count": 135,
     "metadata": {},
     "output_type": "execute_result"
    },
    {
     "data": {
      "image/png": "[encoded data removed]",
      "text/plain": [
       "<Figure size 1000x800 with 1 Axes>"
      ]
     },
     "metadata": {},
     "output_type": "display_data"
    }
   ],
   "source": [
    "### lets find out, if id columns are required or not \n",
    "# 1. encounter_id\n",
    "# 2. patient_id\n",
    "# 3. hospital_id\n",
    "plt.figure(figsize=(10, 8))\n",
    "data[[\"encounter_id\", \"patient_id\", \"hospital_id\", \"hospital_death\"]].corr()['hospital_death'].sort_values(ascending=False).plot(kind=\"bar\")\n",
    "\n"
   ]
  },
  {
   "attachments": {},
   "cell_type": "markdown",
   "metadata": {},
   "source": [
    "\n",
    "#### as we can see the above ID cols are not usefull, so we can delete it "
   ]
  },
  {
   "cell_type": "code",
   "execution_count": 136,
   "metadata": {},
   "outputs": [],
   "source": [
    "data.drop([\"encounter_id\", \"patient_id\", \"hospital_id\"], axis=1, inplace=True)"
   ]
  },
  {
   "attachments": {},
   "cell_type": "markdown",
   "metadata": {},
   "source": [
    "#### lets see if class imbalance is present or not "
   ]
  },
  {
   "cell_type": "code",
   "execution_count": 137,
   "metadata": {},
   "outputs": [
    {
     "data": {
      "text/plain": [
       "<AxesSubplot: xlabel='hospital_death', ylabel='count'>"
      ]
     },
     "execution_count": 137,
     "metadata": {},
     "output_type": "execute_result"
    },
    {
     "data": {
      "image/png": "[encoded data removed]",
      "text/plain": [
       "<Figure size 640x480 with 1 Axes>"
      ]
     },
     "metadata": {},
     "output_type": "display_data"
    }
   ],
   "source": [
    "sns.countplot(data=data, x=\"hospital_death\")"
   ]
  },
  {
   "attachments": {},
   "cell_type": "markdown",
   "metadata": {},
   "source": [
    "#### As we can see there is a huge class imbalance, lets use oversampling to solve this issue."
   ]
  },
  {
   "cell_type": "code",
   "execution_count": 138,
   "metadata": {},
   "outputs": [
    {
     "data": {
      "text/plain": [
       "0    41860\n",
       "1    41860\n",
       "Name: hospital_death, dtype: int64"
      ]
     },
     "execution_count": 138,
     "metadata": {},
     "output_type": "execute_result"
    }
   ],
   "source": [
    "data_majority = data[data.hospital_death == 0]\n",
    "data_minority = data[data.hospital_death == 1]\n",
    "\n",
    "data_minority_upsampled = resample(\n",
    "    data_minority,\n",
    "    replace=True,\n",
    "    n_samples=data_majority.shape[0],\n",
    "    random_state=42\n",
    ")\n",
    "\n",
    "data = pd.concat([data_majority, data_minority_upsampled])\n",
    "data.hospital_death.value_counts()"
   ]
  },
  {
   "attachments": {},
   "cell_type": "markdown",
   "metadata": {},
   "source": [
    "### Dividing the dataset into features and labels "
   ]
  },
  {
   "cell_type": "code",
   "execution_count": 139,
   "metadata": {},
   "outputs": [],
   "source": [
    "features = data.drop('hospital_death', axis=1)\n",
    "labels = data['hospital_death']"
   ]
  },
  {
   "cell_type": "code",
   "execution_count": 140,
   "metadata": {},
   "outputs": [
    {
     "data": {
      "text/html": [
       "<div>\n",
       "<style scoped>\n",
       "    .dataframe tbody tr th:only-of-type {\n",
       "        vertical-align: middle;\n",
       "    }\n",
       "\n",
       "    .dataframe tbody tr th {\n",
       "        vertical-align: top;\n",
       "    }\n",
       "\n",
       "    .dataframe thead th {\n",
       "        text-align: right;\n",
       "    }\n",
       "</style>\n",
       "<table border=\"1\" class=\"dataframe\">\n",
       "  <thead>\n",
       "    <tr style=\"text-align: right;\">\n",
       "      <th></th>\n",
       "      <th>age</th>\n",
       "      <th>bmi</th>\n",
       "      <th>elective_surgery</th>\n",
       "      <th>ethnicity</th>\n",
       "      <th>gender</th>\n",
       "      <th>height</th>\n",
       "      <th>icu_admit_source</th>\n",
       "      <th>icu_id</th>\n",
       "      <th>icu_stay_type</th>\n",
       "      <th>icu_type</th>\n",
       "      <th>...</th>\n",
       "      <th>aids</th>\n",
       "      <th>cirrhosis</th>\n",
       "      <th>diabetes_mellitus</th>\n",
       "      <th>hepatic_failure</th>\n",
       "      <th>immunosuppression</th>\n",
       "      <th>leukemia</th>\n",
       "      <th>lymphoma</th>\n",
       "      <th>solid_tumor_with_metastasis</th>\n",
       "      <th>apache_3j_bodysystem</th>\n",
       "      <th>apache_2_bodysystem</th>\n",
       "    </tr>\n",
       "  </thead>\n",
       "  <tbody>\n",
       "    <tr>\n",
       "      <th>0</th>\n",
       "      <td>29.000000</td>\n",
       "      <td>40.898275</td>\n",
       "      <td>0.0</td>\n",
       "      <td>Asian</td>\n",
       "      <td>F</td>\n",
       "      <td>164.0</td>\n",
       "      <td>Accident &amp; Emergency</td>\n",
       "      <td>413.0</td>\n",
       "      <td>admit</td>\n",
       "      <td>Med-Surg ICU</td>\n",
       "      <td>...</td>\n",
       "      <td>0.0</td>\n",
       "      <td>0.0</td>\n",
       "      <td>0.0</td>\n",
       "      <td>0.0</td>\n",
       "      <td>0.0</td>\n",
       "      <td>0.0</td>\n",
       "      <td>0.0</td>\n",
       "      <td>0.0</td>\n",
       "      <td>Respiratory</td>\n",
       "      <td>Respiratory</td>\n",
       "    </tr>\n",
       "    <tr>\n",
       "      <th>1</th>\n",
       "      <td>78.000000</td>\n",
       "      <td>24.218196</td>\n",
       "      <td>1.0</td>\n",
       "      <td>Caucasian</td>\n",
       "      <td>F</td>\n",
       "      <td>157.4</td>\n",
       "      <td>Operating Room / Recovery</td>\n",
       "      <td>512.0</td>\n",
       "      <td>admit</td>\n",
       "      <td>CCU-CTICU</td>\n",
       "      <td>...</td>\n",
       "      <td>0.0</td>\n",
       "      <td>0.0</td>\n",
       "      <td>0.0</td>\n",
       "      <td>0.0</td>\n",
       "      <td>0.0</td>\n",
       "      <td>0.0</td>\n",
       "      <td>0.0</td>\n",
       "      <td>0.0</td>\n",
       "      <td>Cardiovascular</td>\n",
       "      <td>Cardiovascular</td>\n",
       "    </tr>\n",
       "    <tr>\n",
       "      <th>2</th>\n",
       "      <td>54.000000</td>\n",
       "      <td>45.680937</td>\n",
       "      <td>0.0</td>\n",
       "      <td>Caucasian</td>\n",
       "      <td>M</td>\n",
       "      <td>180.3</td>\n",
       "      <td>Accident &amp; Emergency</td>\n",
       "      <td>543.0</td>\n",
       "      <td>admit</td>\n",
       "      <td>Med-Surg ICU</td>\n",
       "      <td>...</td>\n",
       "      <td>0.0</td>\n",
       "      <td>0.0</td>\n",
       "      <td>1.0</td>\n",
       "      <td>0.0</td>\n",
       "      <td>0.0</td>\n",
       "      <td>0.0</td>\n",
       "      <td>0.0</td>\n",
       "      <td>0.0</td>\n",
       "      <td>Respiratory</td>\n",
       "      <td>Respiratory</td>\n",
       "    </tr>\n",
       "    <tr>\n",
       "      <th>3</th>\n",
       "      <td>62.345066</td>\n",
       "      <td>28.690874</td>\n",
       "      <td>0.0</td>\n",
       "      <td>African American</td>\n",
       "      <td>M</td>\n",
       "      <td>177.8</td>\n",
       "      <td>Accident &amp; Emergency</td>\n",
       "      <td>504.0</td>\n",
       "      <td>admit</td>\n",
       "      <td>SICU</td>\n",
       "      <td>...</td>\n",
       "      <td>0.0</td>\n",
       "      <td>0.0</td>\n",
       "      <td>0.0</td>\n",
       "      <td>0.0</td>\n",
       "      <td>0.0</td>\n",
       "      <td>0.0</td>\n",
       "      <td>0.0</td>\n",
       "      <td>0.0</td>\n",
       "      <td>Trauma</td>\n",
       "      <td>Trauma</td>\n",
       "    </tr>\n",
       "    <tr>\n",
       "      <th>4</th>\n",
       "      <td>82.000000</td>\n",
       "      <td>27.297959</td>\n",
       "      <td>0.0</td>\n",
       "      <td>Caucasian</td>\n",
       "      <td>F</td>\n",
       "      <td>175.0</td>\n",
       "      <td>Floor</td>\n",
       "      <td>413.0</td>\n",
       "      <td>admit</td>\n",
       "      <td>Med-Surg ICU</td>\n",
       "      <td>...</td>\n",
       "      <td>0.0</td>\n",
       "      <td>0.0</td>\n",
       "      <td>0.0</td>\n",
       "      <td>0.0</td>\n",
       "      <td>0.0</td>\n",
       "      <td>0.0</td>\n",
       "      <td>0.0</td>\n",
       "      <td>0.0</td>\n",
       "      <td>Gastrointestinal</td>\n",
       "      <td>Gastrointestinal</td>\n",
       "    </tr>\n",
       "    <tr>\n",
       "      <th>...</th>\n",
       "      <td>...</td>\n",
       "      <td>...</td>\n",
       "      <td>...</td>\n",
       "      <td>...</td>\n",
       "      <td>...</td>\n",
       "      <td>...</td>\n",
       "      <td>...</td>\n",
       "      <td>...</td>\n",
       "      <td>...</td>\n",
       "      <td>...</td>\n",
       "      <td>...</td>\n",
       "      <td>...</td>\n",
       "      <td>...</td>\n",
       "      <td>...</td>\n",
       "      <td>...</td>\n",
       "      <td>...</td>\n",
       "      <td>...</td>\n",
       "      <td>...</td>\n",
       "      <td>...</td>\n",
       "      <td>...</td>\n",
       "      <td>...</td>\n",
       "    </tr>\n",
       "    <tr>\n",
       "      <th>579</th>\n",
       "      <td>68.000000</td>\n",
       "      <td>27.140871</td>\n",
       "      <td>0.0</td>\n",
       "      <td>Caucasian</td>\n",
       "      <td>M</td>\n",
       "      <td>177.8</td>\n",
       "      <td>Accident &amp; Emergency</td>\n",
       "      <td>498.0</td>\n",
       "      <td>admit</td>\n",
       "      <td>Med-Surg ICU</td>\n",
       "      <td>...</td>\n",
       "      <td>0.0</td>\n",
       "      <td>0.0</td>\n",
       "      <td>0.0</td>\n",
       "      <td>0.0</td>\n",
       "      <td>0.0</td>\n",
       "      <td>0.0</td>\n",
       "      <td>0.0</td>\n",
       "      <td>0.0</td>\n",
       "      <td>Neurological</td>\n",
       "      <td>Neurologic</td>\n",
       "    </tr>\n",
       "    <tr>\n",
       "      <th>31747</th>\n",
       "      <td>59.000000</td>\n",
       "      <td>21.290656</td>\n",
       "      <td>0.0</td>\n",
       "      <td>Caucasian</td>\n",
       "      <td>M</td>\n",
       "      <td>172.7</td>\n",
       "      <td>Accident &amp; Emergency</td>\n",
       "      <td>678.0</td>\n",
       "      <td>admit</td>\n",
       "      <td>MICU</td>\n",
       "      <td>...</td>\n",
       "      <td>0.0</td>\n",
       "      <td>0.0</td>\n",
       "      <td>0.0</td>\n",
       "      <td>0.0</td>\n",
       "      <td>0.0</td>\n",
       "      <td>0.0</td>\n",
       "      <td>0.0</td>\n",
       "      <td>0.0</td>\n",
       "      <td>Cardiovascular</td>\n",
       "      <td>Cardiovascular</td>\n",
       "    </tr>\n",
       "    <tr>\n",
       "      <th>20012</th>\n",
       "      <td>71.000000</td>\n",
       "      <td>31.727860</td>\n",
       "      <td>0.0</td>\n",
       "      <td>Hispanic</td>\n",
       "      <td>M</td>\n",
       "      <td>175.3</td>\n",
       "      <td>Floor</td>\n",
       "      <td>290.0</td>\n",
       "      <td>admit</td>\n",
       "      <td>Med-Surg ICU</td>\n",
       "      <td>...</td>\n",
       "      <td>0.0</td>\n",
       "      <td>0.0</td>\n",
       "      <td>1.0</td>\n",
       "      <td>0.0</td>\n",
       "      <td>0.0</td>\n",
       "      <td>0.0</td>\n",
       "      <td>0.0</td>\n",
       "      <td>0.0</td>\n",
       "      <td>Cardiovascular</td>\n",
       "      <td>Cardiovascular</td>\n",
       "    </tr>\n",
       "    <tr>\n",
       "      <th>37483</th>\n",
       "      <td>70.000000</td>\n",
       "      <td>47.223669</td>\n",
       "      <td>0.0</td>\n",
       "      <td>Caucasian</td>\n",
       "      <td>F</td>\n",
       "      <td>162.5</td>\n",
       "      <td>Floor</td>\n",
       "      <td>252.0</td>\n",
       "      <td>admit</td>\n",
       "      <td>Med-Surg ICU</td>\n",
       "      <td>...</td>\n",
       "      <td>0.0</td>\n",
       "      <td>0.0</td>\n",
       "      <td>0.0</td>\n",
       "      <td>0.0</td>\n",
       "      <td>0.0</td>\n",
       "      <td>0.0</td>\n",
       "      <td>0.0</td>\n",
       "      <td>0.0</td>\n",
       "      <td>Respiratory</td>\n",
       "      <td>Respiratory</td>\n",
       "    </tr>\n",
       "    <tr>\n",
       "      <th>15062</th>\n",
       "      <td>67.000000</td>\n",
       "      <td>23.388687</td>\n",
       "      <td>0.0</td>\n",
       "      <td>Caucasian</td>\n",
       "      <td>M</td>\n",
       "      <td>173.0</td>\n",
       "      <td>Operating Room / Recovery</td>\n",
       "      <td>632.0</td>\n",
       "      <td>admit</td>\n",
       "      <td>Cardiac ICU</td>\n",
       "      <td>...</td>\n",
       "      <td>0.0</td>\n",
       "      <td>0.0</td>\n",
       "      <td>0.0</td>\n",
       "      <td>0.0</td>\n",
       "      <td>0.0</td>\n",
       "      <td>0.0</td>\n",
       "      <td>0.0</td>\n",
       "      <td>0.0</td>\n",
       "      <td>Trauma</td>\n",
       "      <td>Trauma</td>\n",
       "    </tr>\n",
       "  </tbody>\n",
       "</table>\n",
       "<p>83720 rows × 68 columns</p>\n",
       "</div>"
      ],
      "text/plain": [
       "             age        bmi  elective_surgery         ethnicity gender  \\\n",
       "0      29.000000  40.898275               0.0             Asian      F   \n",
       "1      78.000000  24.218196               1.0         Caucasian      F   \n",
       "2      54.000000  45.680937               0.0         Caucasian      M   \n",
       "3      62.345066  28.690874               0.0  African American      M   \n",
       "4      82.000000  27.297959               0.0         Caucasian      F   \n",
       "...          ...        ...               ...               ...    ...   \n",
       "579    68.000000  27.140871               0.0         Caucasian      M   \n",
       "31747  59.000000  21.290656               0.0         Caucasian      M   \n",
       "20012  71.000000  31.727860               0.0          Hispanic      M   \n",
       "37483  70.000000  47.223669               0.0         Caucasian      F   \n",
       "15062  67.000000  23.388687               0.0         Caucasian      M   \n",
       "\n",
       "       height           icu_admit_source  icu_id icu_stay_type      icu_type  \\\n",
       "0       164.0       Accident & Emergency   413.0         admit  Med-Surg ICU   \n",
       "1       157.4  Operating Room / Recovery   512.0         admit     CCU-CTICU   \n",
       "2       180.3       Accident & Emergency   543.0         admit  Med-Surg ICU   \n",
       "3       177.8       Accident & Emergency   504.0         admit          SICU   \n",
       "4       175.0                      Floor   413.0         admit  Med-Surg ICU   \n",
       "...       ...                        ...     ...           ...           ...   \n",
       "579     177.8       Accident & Emergency   498.0         admit  Med-Surg ICU   \n",
       "31747   172.7       Accident & Emergency   678.0         admit          MICU   \n",
       "20012   175.3                      Floor   290.0         admit  Med-Surg ICU   \n",
       "37483   162.5                      Floor   252.0         admit  Med-Surg ICU   \n",
       "15062   173.0  Operating Room / Recovery   632.0         admit   Cardiac ICU   \n",
       "\n",
       "       ...  aids  cirrhosis  diabetes_mellitus  hepatic_failure  \\\n",
       "0      ...   0.0        0.0                0.0              0.0   \n",
       "1      ...   0.0        0.0                0.0              0.0   \n",
       "2      ...   0.0        0.0                1.0              0.0   \n",
       "3      ...   0.0        0.0                0.0              0.0   \n",
       "4      ...   0.0        0.0                0.0              0.0   \n",
       "...    ...   ...        ...                ...              ...   \n",
       "579    ...   0.0        0.0                0.0              0.0   \n",
       "31747  ...   0.0        0.0                0.0              0.0   \n",
       "20012  ...   0.0        0.0                1.0              0.0   \n",
       "37483  ...   0.0        0.0                0.0              0.0   \n",
       "15062  ...   0.0        0.0                0.0              0.0   \n",
       "\n",
       "       immunosuppression  leukemia  lymphoma  solid_tumor_with_metastasis  \\\n",
       "0                    0.0       0.0       0.0                          0.0   \n",
       "1                    0.0       0.0       0.0                          0.0   \n",
       "2                    0.0       0.0       0.0                          0.0   \n",
       "3                    0.0       0.0       0.0                          0.0   \n",
       "4                    0.0       0.0       0.0                          0.0   \n",
       "...                  ...       ...       ...                          ...   \n",
       "579                  0.0       0.0       0.0                          0.0   \n",
       "31747                0.0       0.0       0.0                          0.0   \n",
       "20012                0.0       0.0       0.0                          0.0   \n",
       "37483                0.0       0.0       0.0                          0.0   \n",
       "15062                0.0       0.0       0.0                          0.0   \n",
       "\n",
       "       apache_3j_bodysystem  apache_2_bodysystem  \n",
       "0               Respiratory          Respiratory  \n",
       "1            Cardiovascular       Cardiovascular  \n",
       "2               Respiratory          Respiratory  \n",
       "3                    Trauma               Trauma  \n",
       "4          Gastrointestinal     Gastrointestinal  \n",
       "...                     ...                  ...  \n",
       "579            Neurological           Neurologic  \n",
       "31747        Cardiovascular       Cardiovascular  \n",
       "20012        Cardiovascular       Cardiovascular  \n",
       "37483           Respiratory          Respiratory  \n",
       "15062                Trauma               Trauma  \n",
       "\n",
       "[83720 rows x 68 columns]"
      ]
     },
     "execution_count": 140,
     "metadata": {},
     "output_type": "execute_result"
    }
   ],
   "source": [
    "features"
   ]
  },
  {
   "cell_type": "code",
   "execution_count": 141,
   "metadata": {},
   "outputs": [
    {
     "data": {
      "text/plain": [
       "(83720, 106)"
      ]
     },
     "execution_count": 141,
     "metadata": {},
     "output_type": "execute_result"
    }
   ],
   "source": [
    "# creating dummy variables using pd.get_dummies\n",
    "features = pd.get_dummies(features)\n",
    "features.shape"
   ]
  },
  {
   "cell_type": "code",
   "execution_count": 142,
   "metadata": {},
   "outputs": [],
   "source": [
    "# Standardising the data\n",
    "scaler = StandardScaler()\n",
    "features = scaler.fit_transform(features)"
   ]
  },
  {
   "cell_type": "code",
   "execution_count": 143,
   "metadata": {},
   "outputs": [],
   "source": [
    "X_train, X_test, y_train, y_test = train_test_split(features, labels, test_size=0.2, random_state=42)"
   ]
  },
  {
   "cell_type": "code",
   "execution_count": 144,
   "metadata": {},
   "outputs": [
    {
     "data": {
      "text/plain": [
       "((66976, 106), (16744, 106), (66976,), (16744,))"
      ]
     },
     "execution_count": 144,
     "metadata": {},
     "output_type": "execute_result"
    }
   ],
   "source": [
    "X_train.shape, X_test.shape, y_train.shape, y_test.shape"
   ]
  },
  {
   "cell_type": "code",
   "execution_count": 145,
   "metadata": {},
   "outputs": [
    {
     "data": {
      "text/plain": [
       "['d1_diasbp_noninvasive_max',\n",
       " 'd1_diasbp_noninvasive_min',\n",
       " 'd1_mbp_noninvasive_max',\n",
       " 'd1_mbp_noninvasive_min',\n",
       " 'd1_sysbp_noninvasive_max',\n",
       " 'd1_sysbp_noninvasive_min',\n",
       " 'h1_diasbp_noninvasive_max',\n",
       " 'h1_diasbp_noninvasive_min',\n",
       " 'h1_mbp_noninvasive_max',\n",
       " 'h1_mbp_noninvasive_min',\n",
       " 'h1_sysbp_noninvasive_max',\n",
       " 'h1_sysbp_noninvasive_min']"
      ]
     },
     "execution_count": 145,
     "metadata": {},
     "output_type": "execute_result"
    }
   ],
   "source": [
    "to_drop"
   ]
  },
  {
   "cell_type": "code",
   "execution_count": null,
   "metadata": {},
   "outputs": [],
   "source": []
  }
 ],
 "metadata": {
  "kernelspec": {
   "display_name": "env",
   "language": "python",
   "name": "python3"
  },
  "language_info": {
   "codemirror_mode": {
    "name": "ipython",
    "version": 3
   },
   "file_extension": ".py",
   "mimetype": "text/x-python",
   "name": "python",
   "nbconvert_exporter": "python",
   "pygments_lexer": "ipython3",
   "version": "3.9.13"
  },
  "orig_nbformat": 4,
  "vscode": {
   "interpreter": {
    "hash": "59c8f08edba61ea973b82c9f75348db886a5998db1b3f6f46790334b28897453"
   }
  }
 },
 "nbformat": 4,
 "nbformat_minor": 2
}
